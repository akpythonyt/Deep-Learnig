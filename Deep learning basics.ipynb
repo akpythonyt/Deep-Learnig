{
 "cells": [
  {
   "cell_type": "code",
   "execution_count": 2,
   "id": "chubby-jacket",
   "metadata": {},
   "outputs": [
    {
     "name": "stdout",
     "output_type": "stream",
     "text": [
      "2.4.1\n"
     ]
    }
   ],
   "source": [
    "# TensorFlow and tf.keras\n",
    "import tensorflow as tf\n",
    "\n",
    "# Helper libraries\n",
    "import numpy as np\n",
    "import matplotlib.pyplot as plt\n",
    "\n",
    "print(tf.__version__)"
   ]
  },
  {
   "cell_type": "code",
   "execution_count": 12,
   "id": "revised-farming",
   "metadata": {},
   "outputs": [
    {
     "data": {
      "text/plain": [
       "array([[  0,   0,   0,   0,   0,   0,   0,   0,   0,   0,  86,  97,  16,\n",
       "          0,   0,   0,   9,  64,  70,  13,   0,   0,   0,   0,   0,   0,\n",
       "          0,   0],\n",
       "       [  0,   0,   0,   0,   0,   0,   0,  18, 108, 142, 149, 214, 196,\n",
       "        165, 149, 150, 160, 162, 112, 124, 105,  49,   0,   0,   0,   0,\n",
       "          0,   0],\n",
       "       [  0,   0,   0,   0,   0,   0,  30, 182, 148, 126, 121, 122, 148,\n",
       "        154, 154, 153, 154, 109,  78,  98, 106, 125,  84,   0,   0,   0,\n",
       "          0,   0],\n",
       "       [  0,   0,   0,   0,   0,   0, 157, 160, 118, 128, 122, 122, 122,\n",
       "        128, 129, 116, 101,  84,  88,  97,  88,  94,  77,  12,   0,   0,\n",
       "          0,   0],\n",
       "       [  0,   0,   0,   0,   0,  37, 178, 172, 138, 128, 125, 121, 118,\n",
       "        102, 100, 105, 100,  96, 102,  90,  96,  66,  50,  46,   0,   0,\n",
       "          0,   0],\n",
       "       [  0,   0,   0,   0,   0, 126, 178, 193, 152, 128, 125, 117, 104,\n",
       "        105, 106, 101, 102, 105,  85,  85,  69,  12,  64,  49,  14,   0,\n",
       "          0,   0],\n",
       "       [  0,   0,   0,   0,  34, 178, 177, 217, 152, 124, 109, 122,  65,\n",
       "         90, 122,  65,  96, 117,  52,  45,  18,  30,  92,  46,  34,   0,\n",
       "          0,   0],\n",
       "       [  0,   0,   0,   0,  68, 218, 172, 222, 160, 102, 142, 136,  66,\n",
       "         84,  97,  68,  97, 100,  48,   1,   5,  78,  86,  53,  37,   0,\n",
       "          0,   0],\n",
       "       [  0,   0,   0,   0,   0,  45, 172, 254, 178, 101, 144, 130,  50,\n",
       "         68, 100,  57,  70,  90,  34,   0,  26,  93,  62,  34,   0,   0,\n",
       "          0,   0],\n",
       "       [  0,   0,   0,   0,   0,   0,   0, 218, 233, 126, 138, 126,  86,\n",
       "         86,  89,  77,  61,  58,  20,   0,  96, 153,  18,   0,   0,   0,\n",
       "          0,   0],\n",
       "       [  0,   0,   0,   0,   0,   0,   0,   0, 170, 170, 156, 116, 101,\n",
       "         98,  89,  89,  65,  57,  45,   0, 121,  66,   0,   0,   1,   0,\n",
       "          0,   0],\n",
       "       [  0,   0,   0,   0,   0,   0,   1,   0,  13, 230, 152, 109, 100,\n",
       "         89,  86,  85,  74,  78,  56,  17,  34,   0,   0,   2,   0,   0,\n",
       "          0,   0],\n",
       "       [  0,   0,   0,   0,   0,   0,   1,   0,  13, 186, 124, 118,  92,\n",
       "         98,  89,  85,  70,  58,  52,  24,  33,   1,   0,   1,   1,   0,\n",
       "          0,   0],\n",
       "       [  0,   0,   0,   0,   0,   0,   1,   0,  18, 180, 130, 102, 112,\n",
       "         92,  89,  84,  70,  64,  61,  28,  25,   0,   0,   1,   0,   0,\n",
       "          0,   0],\n",
       "       [  0,   0,   0,   0,   0,   0,   1,   0,  41, 180, 126,  96, 105,\n",
       "         97,  88,  82,  68,  60,  58,  33,  17,   0,   0,   0,   0,   0,\n",
       "          0,   0],\n",
       "       [  0,   0,   0,   0,   0,   0,   2,   0,  54, 176, 116, 104, 110,\n",
       "        102,  85,  68,  66,  57,  53,  37,  16,   0,   0,   0,   0,   0,\n",
       "          0,   0],\n",
       "       [  0,   0,   0,   0,   0,   0,   1,   0,  46, 168, 117, 118, 113,\n",
       "         96,  85,  74,  73,  61,  64,  45,   8,   0,   0,   0,   0,   0,\n",
       "          0,   0],\n",
       "       [  0,   0,   0,   0,   0,   0,   1,   0,  33, 188, 122, 112, 114,\n",
       "        100,  82,  70,  62,  70,  56,  38,   8,   0,   0,   0,   0,   0,\n",
       "          0,   0],\n",
       "       [  0,   0,   0,   0,   0,   0,   1,   0,  38, 190, 120, 112, 126,\n",
       "        104,  84,  70,  65,  64,  61,  54,  16,   0,   0,   0,   0,   0,\n",
       "          0,   0],\n",
       "       [  0,   0,   0,   0,   0,   0,   1,   0,  62, 170, 128, 126, 129,\n",
       "        109,  90,  80,  70,  65,  62,  61,  14,   0,   0,   0,   0,   0,\n",
       "          0,   0],\n",
       "       [  0,   0,   0,   0,   0,   0,   2,   0,  81, 165, 126, 125, 114,\n",
       "        100,  96,  86,  72,  69,  60,  54,  18,   0,   0,   1,   0,   0,\n",
       "          0,   0],\n",
       "       [  0,   0,   0,   0,   0,   0,   2,   0,  97, 172, 137, 129, 110,\n",
       "        102,  90,  81,  84,  70,  60,  53,  20,   0,   0,   1,   1,   0,\n",
       "          0,   0],\n",
       "       [  0,   0,   0,   0,   0,   0,   0,   0, 113, 170, 126, 122, 113,\n",
       "        104,  82,  78,  89,  74,  60,  61,  26,   1,   0,   0,   0,   0,\n",
       "          0,   0],\n",
       "       [  0,   0,   0,   0,   0,   0,   0,   0, 130, 168, 126, 128, 114,\n",
       "        105,  94,  77,  96,  92,  52,  61,  33,  12,   0,   1,   0,   0,\n",
       "          0,   0],\n",
       "       [  0,   0,   0,   0,   0,   0,   0,   0, 142, 173, 129, 132, 116,\n",
       "        102,  89,  80, 113, 110,  54,  70,  28,  17,   0,   1,   0,   0,\n",
       "          0,   0],\n",
       "       [  0,   0,   0,   0,   0,   0,   0,   0, 165, 169, 125, 132, 122,\n",
       "         96,  80,  86, 105, 126,  42,  73,  38,  17,   0,   1,   0,   0,\n",
       "          0,   0],\n",
       "       [  0,   0,   0,   0,   0,   0,   0,   0,  68, 198, 148, 168, 142,\n",
       "         97,  85,  94, 126, 168,  62,  94,  41,   0,   0,   0,   0,   0,\n",
       "          0,   0],\n",
       "       [  0,   0,   0,   0,   0,   0,   0,   0,   0,   0,  45,  82,  98,\n",
       "         89,  76,  92, 117, 129,  22,   1,   0,   0,   0,   0,   0,   0,\n",
       "          0,   0]], dtype=uint8)"
      ]
     },
     "execution_count": 12,
     "metadata": {},
     "output_type": "execute_result"
    }
   ],
   "source": [
    "dataset = tf.keras.datasets.fashion_mnist\n",
    "\n",
    "(train_images, train_labels), (test_images, test_labels) = dataset.load_data()\n",
    "train_images[600]"
   ]
  },
  {
   "cell_type": "code",
   "execution_count": null,
   "id": "piano-sample",
   "metadata": {},
   "outputs": [],
   "source": []
  },
  {
   "cell_type": "code",
   "execution_count": 4,
   "id": "super-college",
   "metadata": {},
   "outputs": [
    {
     "data": {
      "text/plain": [
       "(10000, 28, 28)"
      ]
     },
     "execution_count": 4,
     "metadata": {},
     "output_type": "execute_result"
    }
   ],
   "source": [
    "test_images.shape"
   ]
  },
  {
   "cell_type": "code",
   "execution_count": 5,
   "id": "committed-relevance",
   "metadata": {},
   "outputs": [],
   "source": [
    "class_names = ['T-shirt/top', 'Trouser', 'Pullover', 'Dress', 'Coat',\n",
    "               'Sandal', 'Shirt', 'Sneaker', 'Bag', 'Ankle boot']"
   ]
  },
  {
   "cell_type": "code",
   "execution_count": 25,
   "id": "fifteen-directory",
   "metadata": {},
   "outputs": [
    {
     "data": {
      "image/png": "[encoded data removed]",
      "text/plain": [
       "<Figure size 432x288 with 2 Axes>"
      ]
     },
     "metadata": {
      "needs_background": "light"
     },
     "output_type": "display_data"
    }
   ],
   "source": [
    "plt.figure()\n",
    "plt.imshow(test_images[18])\n",
    "plt.colorbar()\n",
    "plt.grid(False)\n",
    "plt.show()"
   ]
  },
  {
   "cell_type": "code",
   "execution_count": 13,
   "id": "apart-thread",
   "metadata": {},
   "outputs": [],
   "source": [
    "#scaling the images for best fitting\n",
    "train_images = train_images / 255.0\n",
    "\n",
    "test_images = test_images / 255.0"
   ]
  },
  {
   "cell_type": "code",
   "execution_count": 9,
   "id": "limiting-declaration",
   "metadata": {},
   "outputs": [
    {
     "data": {
      "text/plain": [
       "array([[  0,   0,   0,   0,   0,   0,   0,   0,   0,   0,  86,  97,  16,\n",
       "          0,   0,   0,   9,  64,  70,  13,   0,   0,   0,   0,   0,   0,\n",
       "          0,   0],\n",
       "       [  0,   0,   0,   0,   0,   0,   0,  18, 108, 142, 149, 214, 196,\n",
       "        165, 149, 150, 160, 162, 112, 124, 105,  49,   0,   0,   0,   0,\n",
       "          0,   0],\n",
       "       [  0,   0,   0,   0,   0,   0,  30, 182, 148, 126, 121, 122, 148,\n",
       "        154, 154, 153, 154, 109,  78,  98, 106, 125,  84,   0,   0,   0,\n",
       "          0,   0],\n",
       "       [  0,   0,   0,   0,   0,   0, 157, 160, 118, 128, 122, 122, 122,\n",
       "        128, 129, 116, 101,  84,  88,  97,  88,  94,  77,  12,   0,   0,\n",
       "          0,   0],\n",
       "       [  0,   0,   0,   0,   0,  37, 178, 172, 138, 128, 125, 121, 118,\n",
       "        102, 100, 105, 100,  96, 102,  90,  96,  66,  50,  46,   0,   0,\n",
       "          0,   0],\n",
       "       [  0,   0,   0,   0,   0, 126, 178, 193, 152, 128, 125, 117, 104,\n",
       "        105, 106, 101, 102, 105,  85,  85,  69,  12,  64,  49,  14,   0,\n",
       "          0,   0],\n",
       "       [  0,   0,   0,   0,  34, 178, 177, 217, 152, 124, 109, 122,  65,\n",
       "         90, 122,  65,  96, 117,  52,  45,  18,  30,  92,  46,  34,   0,\n",
       "          0,   0],\n",
       "       [  0,   0,   0,   0,  68, 218, 172, 222, 160, 102, 142, 136,  66,\n",
       "         84,  97,  68,  97, 100,  48,   1,   5,  78,  86,  53,  37,   0,\n",
       "          0,   0],\n",
       "       [  0,   0,   0,   0,   0,  45, 172, 254, 178, 101, 144, 130,  50,\n",
       "         68, 100,  57,  70,  90,  34,   0,  26,  93,  62,  34,   0,   0,\n",
       "          0,   0],\n",
       "       [  0,   0,   0,   0,   0,   0,   0, 218, 233, 126, 138, 126,  86,\n",
       "         86,  89,  77,  61,  58,  20,   0,  96, 153,  18,   0,   0,   0,\n",
       "          0,   0],\n",
       "       [  0,   0,   0,   0,   0,   0,   0,   0, 170, 170, 156, 116, 101,\n",
       "         98,  89,  89,  65,  57,  45,   0, 121,  66,   0,   0,   1,   0,\n",
       "          0,   0],\n",
       "       [  0,   0,   0,   0,   0,   0,   1,   0,  13, 230, 152, 109, 100,\n",
       "         89,  86,  85,  74,  78,  56,  17,  34,   0,   0,   2,   0,   0,\n",
       "          0,   0],\n",
       "       [  0,   0,   0,   0,   0,   0,   1,   0,  13, 186, 124, 118,  92,\n",
       "         98,  89,  85,  70,  58,  52,  24,  33,   1,   0,   1,   1,   0,\n",
       "          0,   0],\n",
       "       [  0,   0,   0,   0,   0,   0,   1,   0,  18, 180, 130, 102, 112,\n",
       "         92,  89,  84,  70,  64,  61,  28,  25,   0,   0,   1,   0,   0,\n",
       "          0,   0],\n",
       "       [  0,   0,   0,   0,   0,   0,   1,   0,  41, 180, 126,  96, 105,\n",
       "         97,  88,  82,  68,  60,  58,  33,  17,   0,   0,   0,   0,   0,\n",
       "          0,   0],\n",
       "       [  0,   0,   0,   0,   0,   0,   2,   0,  54, 176, 116, 104, 110,\n",
       "        102,  85,  68,  66,  57,  53,  37,  16,   0,   0,   0,   0,   0,\n",
       "          0,   0],\n",
       "       [  0,   0,   0,   0,   0,   0,   1,   0,  46, 168, 117, 118, 113,\n",
       "         96,  85,  74,  73,  61,  64,  45,   8,   0,   0,   0,   0,   0,\n",
       "          0,   0],\n",
       "       [  0,   0,   0,   0,   0,   0,   1,   0,  33, 188, 122, 112, 114,\n",
       "        100,  82,  70,  62,  70,  56,  38,   8,   0,   0,   0,   0,   0,\n",
       "          0,   0],\n",
       "       [  0,   0,   0,   0,   0,   0,   1,   0,  38, 190, 120, 112, 126,\n",
       "        104,  84,  70,  65,  64,  61,  54,  16,   0,   0,   0,   0,   0,\n",
       "          0,   0],\n",
       "       [  0,   0,   0,   0,   0,   0,   1,   0,  62, 170, 128, 126, 129,\n",
       "        109,  90,  80,  70,  65,  62,  61,  14,   0,   0,   0,   0,   0,\n",
       "          0,   0],\n",
       "       [  0,   0,   0,   0,   0,   0,   2,   0,  81, 165, 126, 125, 114,\n",
       "        100,  96,  86,  72,  69,  60,  54,  18,   0,   0,   1,   0,   0,\n",
       "          0,   0],\n",
       "       [  0,   0,   0,   0,   0,   0,   2,   0,  97, 172, 137, 129, 110,\n",
       "        102,  90,  81,  84,  70,  60,  53,  20,   0,   0,   1,   1,   0,\n",
       "          0,   0],\n",
       "       [  0,   0,   0,   0,   0,   0,   0,   0, 113, 170, 126, 122, 113,\n",
       "        104,  82,  78,  89,  74,  60,  61,  26,   1,   0,   0,   0,   0,\n",
       "          0,   0],\n",
       "       [  0,   0,   0,   0,   0,   0,   0,   0, 130, 168, 126, 128, 114,\n",
       "        105,  94,  77,  96,  92,  52,  61,  33,  12,   0,   1,   0,   0,\n",
       "          0,   0],\n",
       "       [  0,   0,   0,   0,   0,   0,   0,   0, 142, 173, 129, 132, 116,\n",
       "        102,  89,  80, 113, 110,  54,  70,  28,  17,   0,   1,   0,   0,\n",
       "          0,   0],\n",
       "       [  0,   0,   0,   0,   0,   0,   0,   0, 165, 169, 125, 132, 122,\n",
       "         96,  80,  86, 105, 126,  42,  73,  38,  17,   0,   1,   0,   0,\n",
       "          0,   0],\n",
       "       [  0,   0,   0,   0,   0,   0,   0,   0,  68, 198, 148, 168, 142,\n",
       "         97,  85,  94, 126, 168,  62,  94,  41,   0,   0,   0,   0,   0,\n",
       "          0,   0],\n",
       "       [  0,   0,   0,   0,   0,   0,   0,   0,   0,   0,  45,  82,  98,\n",
       "         89,  76,  92, 117, 129,  22,   1,   0,   0,   0,   0,   0,   0,\n",
       "          0,   0]], dtype=uint8)"
      ]
     },
     "execution_count": 9,
     "metadata": {},
     "output_type": "execute_result"
    }
   ],
   "source": [
    "train_images[600]"
   ]
  },
  {
   "cell_type": "code",
   "execution_count": 17,
   "id": "detailed-longer",
   "metadata": {},
   "outputs": [],
   "source": [
    "model = tf.keras.Sequential([\n",
    "    tf.keras.layers.Flatten(input_shape=(28, 28)),\n",
    "    tf.keras.layers.Dense(128, activation='relu'),\n",
    "    tf.keras.layers.Dense(10)\n",
    "])"
   ]
  },
  {
   "cell_type": "code",
   "execution_count": 18,
   "id": "eleven-generation",
   "metadata": {},
   "outputs": [],
   "source": [
    "model.compile(optimizer='adam',\n",
    "              loss=tf.keras.losses.SparseCategoricalCrossentropy(from_logits=True),\n",
    "              metrics=['accuracy'])"
   ]
  },
  {
   "cell_type": "code",
   "execution_count": 19,
   "id": "reserved-combining",
   "metadata": {},
   "outputs": [
    {
     "name": "stdout",
     "output_type": "stream",
     "text": [
      "Epoch 1/10\n",
      "1875/1875 [==============================] - 15s 2ms/step - loss: 11.4683 - accuracy: 0.6495\n",
      "Epoch 2/10\n",
      "1875/1875 [==============================] - 3s 2ms/step - loss: 0.7747 - accuracy: 0.7209\n",
      "Epoch 3/10\n",
      "1875/1875 [==============================] - 3s 2ms/step - loss: 0.6764 - accuracy: 0.7321\n",
      "Epoch 4/10\n",
      "1875/1875 [==============================] - 3s 2ms/step - loss: 0.6172 - accuracy: 0.7501: 0s - loss:\n",
      "Epoch 5/10\n",
      "1875/1875 [==============================] - 3s 2ms/step - loss: 0.5597 - accuracy: 0.7845\n",
      "Epoch 6/10\n",
      "1875/1875 [==============================] - 4s 2ms/step - loss: 0.5280 - accuracy: 0.8151\n",
      "Epoch 7/10\n",
      "1875/1875 [==============================] - 5s 3ms/step - loss: 0.5329 - accuracy: 0.8185\n",
      "Epoch 8/10\n",
      "1875/1875 [==============================] - 4s 2ms/step - loss: 0.5051 - accuracy: 0.8289\n",
      "Epoch 9/10\n",
      "1875/1875 [==============================] - 5s 2ms/step - loss: 0.5009 - accuracy: 0.8304\n",
      "Epoch 10/10\n",
      "1875/1875 [==============================] - 4s 2ms/step - loss: 0.4844 - accuracy: 0.8415\n"
     ]
    },
    {
     "data": {
      "text/plain": [
       "<tensorflow.python.keras.callbacks.History at 0x24efe679190>"
      ]
     },
     "execution_count": 19,
     "metadata": {},
     "output_type": "execute_result"
    }
   ],
   "source": [
    "model.fit(train_images, train_labels, epochs=10)"
   ]
  },
  {
   "cell_type": "code",
   "execution_count": 20,
   "id": "dried-nevada",
   "metadata": {},
   "outputs": [],
   "source": [
    "probability_model = tf.keras.Sequential([model, \n",
    "                                         tf.keras.layers.Softmax()])"
   ]
  },
  {
   "cell_type": "code",
   "execution_count": 21,
   "id": "chief-olympus",
   "metadata": {},
   "outputs": [],
   "source": [
    "predictions = probability_model.predict(test_images)"
   ]
  },
  {
   "cell_type": "code",
   "execution_count": 22,
   "id": "tracked-affair",
   "metadata": {},
   "outputs": [
    {
     "data": {
      "text/plain": [
       "array([1.6976030e-04, 4.1098629e-06, 1.1783515e-03, 9.3073402e-07,\n",
       "       9.0861235e-08, 3.2775702e-03, 7.7869243e-04, 2.3230760e-04,\n",
       "       9.9434704e-01, 1.1159052e-05], dtype=float32)"
      ]
     },
     "execution_count": 22,
     "metadata": {},
     "output_type": "execute_result"
    }
   ],
   "source": [
    "predictions[18]"
   ]
  },
  {
   "cell_type": "code",
   "execution_count": 23,
   "id": "coral-serial",
   "metadata": {},
   "outputs": [
    {
     "data": {
      "text/plain": [
       "8"
      ]
     },
     "execution_count": 23,
     "metadata": {},
     "output_type": "execute_result"
    }
   ],
   "source": [
    "np.argmax(predictions[18])"
   ]
  },
  {
   "cell_type": "code",
   "execution_count": 24,
   "id": "patient-agriculture",
   "metadata": {},
   "outputs": [
    {
     "data": {
      "text/plain": [
       "8"
      ]
     },
     "execution_count": 24,
     "metadata": {},
     "output_type": "execute_result"
    }
   ],
   "source": [
    "test_labels[18]"
   ]
  },
  {
   "cell_type": "code",
   "execution_count": null,
   "id": "incident-duncan",
   "metadata": {},
   "outputs": [],
   "source": []
  },
  {
   "cell_type": "code",
   "execution_count": null,
   "id": "moral-client",
   "metadata": {},
   "outputs": [],
   "source": []
  },
  {
   "cell_type": "code",
   "execution_count": null,
   "id": "upset-assistant",
   "metadata": {},
   "outputs": [],
   "source": []
  },
  {
   "cell_type": "code",
   "execution_count": null,
   "id": "capable-mauritius",
   "metadata": {},
   "outputs": [],
   "source": []
  },
  {
   "cell_type": "code",
   "execution_count": null,
   "id": "pediatric-fifty",
   "metadata": {},
   "outputs": [],
   "source": []
  },
  {
   "cell_type": "code",
   "execution_count": null,
   "id": "public-ordinance",
   "metadata": {},
   "outputs": [],
   "source": []
  },
  {
   "cell_type": "code",
   "execution_count": null,
   "id": "registered-voltage",
   "metadata": {},
   "outputs": [],
   "source": []
  },
  {
   "cell_type": "code",
   "execution_count": 70,
   "id": "retired-zealand",
   "metadata": {},
   "outputs": [],
   "source": []
  },
  {
   "cell_type": "code",
   "execution_count": 71,
   "id": "regulated-architect",
   "metadata": {},
   "outputs": [],
   "source": []
  },
  {
   "cell_type": "code",
   "execution_count": null,
   "id": "turkish-reminder",
   "metadata": {},
   "outputs": [],
   "source": []
  },
  {
   "cell_type": "code",
   "execution_count": null,
   "id": "sunset-invalid",
   "metadata": {},
   "outputs": [],
   "source": []
  }
 ],
 "metadata": {
  "kernelspec": {
   "display_name": "Python 3",
   "language": "python",
   "name": "python3"
  },
  "language_info": {
   "codemirror_mode": {
    "name": "ipython",
    "version": 3
   },
   "file_extension": ".py",
   "mimetype": "text/x-python",
   "name": "python",
   "nbconvert_exporter": "python",
   "pygments_lexer": "ipython3",
   "version": "3.8.8"
  }
 },
 "nbformat": 4,
 "nbformat_minor": 5
}
