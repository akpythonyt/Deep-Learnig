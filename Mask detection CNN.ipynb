{
 "cells": [
  {
   "cell_type": "code",
   "execution_count": 1,
   "id": "selective-monday",
   "metadata": {},
   "outputs": [],
   "source": [
    "from keras.preprocessing.image import ImageDataGenerator\n",
    "from keras.models import Sequential,load_model\n",
    "from keras.layers import Conv2D,MaxPooling2D,SpatialDropout2D,Flatten,Dropout,Dense\n",
    "from keras.preprocessing import image\n",
    "import tensorflow as tf\n",
    "import matplotlib.pyplot as plt\n",
    "import cv2\n",
    "import numpy as np\n",
    "import os"
   ]
  },
  {
   "cell_type": "code",
   "execution_count": 4,
   "id": "perceived-substitute",
   "metadata": {},
   "outputs": [],
   "source": [
    "img=image.load_img('E:/Dataset/train/with_mask/0-with-mask.jpg')\n",
    "img.show()"
   ]
  },
  {
   "cell_type": "code",
   "execution_count": 5,
   "id": "prescribed-oxygen",
   "metadata": {},
   "outputs": [],
   "source": [
    "#Normalization\n",
    "train=ImageDataGenerator(rescale=1/255)\n",
    "test=ImageDataGenerator(rescale=1/255)"
   ]
  },
  {
   "cell_type": "code",
   "execution_count": 9,
   "id": "optical-harvard",
   "metadata": {},
   "outputs": [
    {
     "name": "stdout",
     "output_type": "stream",
     "text": [
      "Found 1315 images belonging to 2 classes.\n",
      "Found 194 images belonging to 2 classes.\n"
     ]
    }
   ],
   "source": [
    "traindataset=train.flow_from_directory('E:/Dataset/train',\n",
    "                                      target_size=(150,150),\n",
    "                                       batch_size=16,\n",
    "                                       class_mode='binary')\n",
    "testdataset=train.flow_from_directory('E:/Dataset/test',\n",
    "                                      target_size=(150,150),\n",
    "                                       batch_size=16,\n",
    "                                       class_mode='binary')"
   ]
  },
  {
   "cell_type": "code",
   "execution_count": 10,
   "id": "satisfied-southwest",
   "metadata": {},
   "outputs": [],
   "source": [
    "#CNN\n",
    "model=Sequential()\n",
    "model.add(Conv2D(32,(3,3),activation='relu',input_shape=(150,150,3)))#filters #Kernalsize #RELU\n",
    "model.add(MaxPooling2D() )\n",
    "model.add(Conv2D(32,(3,3),activation='relu'))\n",
    "model.add(MaxPooling2D() )\n",
    "model.add(Conv2D(32,(3,3),activation='relu'))\n",
    "model.add(MaxPooling2D() )\n",
    "model.add(Flatten())\n",
    "model.add(Dense(100,activation='relu'))\n",
    "model.add(Dense(1,activation='sigmoid'))"
   ]
  },
  {
   "cell_type": "code",
   "execution_count": 11,
   "id": "median-fence",
   "metadata": {},
   "outputs": [],
   "source": [
    "model.compile(optimizer='adam',loss='binary_crossentropy',metrics=['accuracy'])"
   ]
  },
  {
   "cell_type": "code",
   "execution_count": 12,
   "id": "tracked-termination",
   "metadata": {},
   "outputs": [
    {
     "name": "stderr",
     "output_type": "stream",
     "text": [
      "c:\\users\\admin\\appdata\\local\\programs\\python\\python38\\lib\\site-packages\\tensorflow\\python\\keras\\engine\\training.py:1844: UserWarning: `Model.fit_generator` is deprecated and will be removed in a future version. Please use `Model.fit`, which supports generators.\n",
      "  warnings.warn('`Model.fit_generator` is deprecated and '\n"
     ]
    },
    {
     "name": "stdout",
     "output_type": "stream",
     "text": [
      "Epoch 1/7\n",
      "83/83 [==============================] - 68s 757ms/step - loss: 0.5489 - accuracy: 0.7061\n",
      "Epoch 2/7\n",
      "83/83 [==============================] - 45s 544ms/step - loss: 0.1279 - accuracy: 0.9520\n",
      "Epoch 3/7\n",
      "83/83 [==============================] - 44s 526ms/step - loss: 0.1071 - accuracy: 0.9538\n",
      "Epoch 4/7\n",
      "83/83 [==============================] - 47s 567ms/step - loss: 0.0679 - accuracy: 0.9697\n",
      "Epoch 5/7\n",
      "83/83 [==============================] - 46s 550ms/step - loss: 0.0848 - accuracy: 0.9699\n",
      "Epoch 6/7\n",
      "83/83 [==============================] - 44s 522ms/step - loss: 0.0420 - accuracy: 0.9877\n",
      "Epoch 7/7\n",
      "83/83 [==============================] - 47s 568ms/step - loss: 0.0348 - accuracy: 0.9889\n"
     ]
    }
   ],
   "source": [
    "model_saved=model.fit_generator(\n",
    "        traindataset,\n",
    "        epochs=7)"
   ]
  },
  {
   "cell_type": "code",
   "execution_count": 25,
   "id": "institutional-lawrence",
   "metadata": {},
   "outputs": [],
   "source": [
    "prediction=model.predict(testdataset)"
   ]
  },
  {
   "cell_type": "code",
   "execution_count": 32,
   "id": "comparative-biography",
   "metadata": {},
   "outputs": [
    {
     "name": "stdout",
     "output_type": "stream",
     "text": [
      "[1.9218884e-05]\n"
     ]
    }
   ],
   "source": [
    "result=prediction[78]\n",
    "print(result)"
   ]
  },
  {
   "cell_type": "markdown",
   "id": "visible-consumer",
   "metadata": {},
   "source": [
    "### "
   ]
  },
  {
   "cell_type": "code",
   "execution_count": 33,
   "id": "patient-picture",
   "metadata": {},
   "outputs": [
    {
     "data": {
      "text/plain": [
       "0"
      ]
     },
     "execution_count": 33,
     "metadata": {},
     "output_type": "execute_result"
    }
   ],
   "source": [
    "testdataset.classes[78]"
   ]
  },
  {
   "cell_type": "code",
   "execution_count": null,
   "id": "excellent-myanmar",
   "metadata": {},
   "outputs": [],
   "source": []
  }
 ],
 "metadata": {
  "kernelspec": {
   "display_name": "Python 3",
   "language": "python",
   "name": "python3"
  },
  "language_info": {
   "codemirror_mode": {
    "name": "ipython",
    "version": 3
   },
   "file_extension": ".py",
   "mimetype": "text/x-python",
   "name": "python",
   "nbconvert_exporter": "python",
   "pygments_lexer": "ipython3",
   "version": "3.8.8"
  }
 },
 "nbformat": 4,
 "nbformat_minor": 5
}
